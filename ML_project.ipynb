{
  "nbformat": 4,
  "nbformat_minor": 0,
  "metadata": {
    "colab": {
      "name": "ML_project.ipynb",
      "provenance": [],
      "mount_file_id": "1NSo_6P80C0s3__pJF2LmuoVynMv7qiM_",
      "authorship_tag": "ABX9TyO/g7+oIBCf6ovwaa2SNs4O",
      "include_colab_link": true
    },
    "kernelspec": {
      "name": "python3",
      "display_name": "Python 3"
    },
    "accelerator": "GPU"
  },
  "cells": [
    {
      "cell_type": "markdown",
      "metadata": {
        "id": "view-in-github",
        "colab_type": "text"
      },
      "source": [
        "<a href=\"https://colab.research.google.com/github/MrDevCop/ML-project/blob/main/ML_project.ipynb\" target=\"_parent\"><img src=\"https://colab.research.google.com/assets/colab-badge.svg\" alt=\"Open In Colab\"/></a>"
      ]
    },
    {
      "cell_type": "markdown",
      "metadata": {
        "id": "NBkUPXk89OgO"
      },
      "source": [
        "# **MAKING CUSTOMER PROFILE OF AN INSURANCE COMPANY**"
      ]
    },
    {
      "cell_type": "markdown",
      "metadata": {
        "id": "2lpaILICmyCn"
      },
      "source": [
        "This project involves using R programming language on python runtime in google colab by using *rmagic*. The reason for not using R runtime is because there is not an authentic way to mount google drive on the colab with R runtime which poses an issue of unable to use project specific datasets upoaded on google drive. "
      ]
    },
    {
      "cell_type": "code",
      "metadata": {
        "id": "BWl7CbUun3nH",
        "colab": {
          "base_uri": "https://localhost:8080/"
        },
        "outputId": "58694d8e-668d-4b31-c6fc-3ce015bc19aa"
      },
      "source": [
        "%load_ext rpy2.ipython"
      ],
      "execution_count": 2,
      "outputs": [
        {
          "output_type": "stream",
          "text": [
            "/usr/local/lib/python3.6/dist-packages/rpy2/robjects/pandas2ri.py:14: FutureWarning: pandas.core.index is deprecated and will be removed in a future version.  The public classes are available in the top-level namespace.\n",
            "  from pandas.core.index import Index as PandasIndex\n",
            "/usr/local/lib/python3.6/dist-packages/rpy2/robjects/pandas2ri.py:34: UserWarning: pandas >= 1.0 is not supported.\n",
            "  warnings.warn('pandas >= 1.0 is not supported.')\n"
          ],
          "name": "stderr"
        }
      ]
    },
    {
      "cell_type": "markdown",
      "metadata": {
        "id": "k9Y76-peoDIF"
      },
      "source": [
        "Mounting google drive using python "
      ]
    },
    {
      "cell_type": "code",
      "metadata": {
        "id": "W7XNI0frogt9"
      },
      "source": [
        "from pydrive.auth import GoogleAuth\r\n",
        "from pydrive.drive import GoogleDrive\r\n",
        "from google.colab import auth\r\n",
        "from oauth2client.client import GoogleCredentials\r\n",
        "auth.authenticate_user()\r\n",
        "gauth = GoogleAuth()\r\n",
        "gauth.credentials = GoogleCredentials.get_application_default()\r\n",
        "drive = GoogleDrive(gauth)"
      ],
      "execution_count": null,
      "outputs": []
    },
    {
      "cell_type": "markdown",
      "metadata": {
        "id": "x67Gh7whGrqh"
      },
      "source": [
        "# **DATA EXPLAINATION**"
      ]
    },
    {
      "cell_type": "markdown",
      "metadata": {
        "id": "1mTwA6Im6pyc"
      },
      "source": [
        "The dataset belongs to an insurance company trying to figure out the kind of customers interested in buying their new insursnce policy 'CARAVAN Insurance Policy'. The dataset is compiled by Dutch Data Mining Compnay Sentinal Machine Research. The dataset consists of 86 variables where 1-43 are socio-demographic information about the customers and 43-86 shows ownership of other insurance policies held by customers. Total observations are 9822 where 5822 (almost 60%) will be used for training and 4000 (almost 41%) will be used for testing. Machine learning algorithm, Decision Trees will be applied on the dataset to determine the kind of customers interested in buying the 'CARAVAN' insurance policy. Other techniques like Random Forests, boosted trees, Bagging Trees are no doubt more robust techniques but the objective of this project calls for decision trees as I have to build a 'customer profile' based on prior data to determine who will buy the said insurance policy. The variable names are keywords corresponding to the actual value that column holds. For exmaple the first column 'MOSTYPE' shows the customer subtype. The values of the column are numeric which encodes to the customer subtypes given at the end of this explaination. Hence you have to look at the data dictionary that I have created and listed below:\r\n",
        "\r\n",
        "\r\n",
        "---\r\n",
        "\r\n",
        "\r\n",
        "1 MOSTYPE Customer Subtype see L0                  \r\n",
        "\r\n",
        "2 MAANTHUI Number of houses 1 – 10 \r\n",
        "\r\n",
        "3 MGEMOMV Avg size household 1 – 6 \r\n",
        "\r\n",
        "4 MGEMLEEF Avg age see L1 \r\n",
        "\r\n",
        "5 MOSHOOFD Customer main type see L2 \r\n",
        "\r\n",
        "6 MGODRK Roman catholic see L3 \r\n",
        "\r\n",
        "7 MGODPR Protestant ... \r\n",
        "\r\n",
        "8 MGODOV Other religion \r\n",
        "\r\n",
        "9 MGODGE No religion \r\n",
        "\r\n",
        "10 MRELGE Married \r\n",
        "\r\n",
        "11 MRELSA Living together \r\n",
        "\r\n",
        "12 MRELOV Other relation \r\n",
        "\r\n",
        "13 MFALLEEN Singles \r\n",
        "\r\n",
        "14 MFGEKIND Household without children \r\n",
        "\r\n",
        "15 MFWEKIND Household with children \r\n",
        "\r\n",
        "16 MOPLHOOG High level education \r\n",
        "\r\n",
        "17 MOPLMIDD Medium level education \r\n",
        "\r\n",
        "18 MOPLLAAG Lower level education \r\n",
        "\r\n",
        "19 MBERHOOG High status \r\n",
        "\r\n",
        "20 MBERZELF Entrepreneur \r\n",
        "\r\n",
        "21 MBERBOER Farmer \r\n",
        "\r\n",
        "22 MBERMIDD Middle management \r\n",
        "\r\n",
        "23 MBERARBG Skilled labourers \r\n",
        "\r\n",
        "24 MBERARBO Unskilled labourers \r\n",
        "\r\n",
        "25 MSKA Social class A \r\n",
        "\r\n",
        "26 MSKB1 Social class B1 \r\n",
        "\r\n",
        "27 MSKB2 Social class B2 \r\n",
        "\r\n",
        "28 MSKC Social class C \r\n",
        "\r\n",
        "29 MSKD Social class D \r\n",
        "\r\n",
        "30 MHHUUR Rented house \r\n",
        "\r\n",
        "31 MHKOOP Home owners \r\n",
        "\r\n",
        "32 MAUT1 1 car \r\n",
        "\r\n",
        "33 MAUT2 2 cars \r\n",
        "\r\n",
        "34 MAUT0 No car \r\n",
        "\r\n",
        "35 MZFONDS National Health Service \r\n",
        "\r\n",
        "36 MZPART Private health insurance \r\n",
        "\r\n",
        "37 MINKM30 Income < 30.000 \r\n",
        "\r\n",
        "38 MINK3045 Income 30-45.000 \r\n",
        "\r\n",
        "39 MINK4575 Income 45-75.000 \r\n",
        "\r\n",
        "40 MINK7512 Income 75-122.000 \r\n",
        "\r\n",
        "41 MINK123M Income >123.000 \r\n",
        "\r\n",
        "42 MINKGEM Average income \r\n",
        "\r\n",
        "43 MKOOPKLA Purchasing power class \r\n",
        "\r\n",
        "44 PWAPART Contribution private third party insurance see L4 \r\n",
        "\r\n",
        "45 PWABEDR Contribution third party insurance (firms) ... \r\n",
        "\r\n",
        "46 PWALAND Contribution third party insurane (agriculture) \r\n",
        "\r\n",
        "47 PPERSAUT Contribution car policies \r\n",
        "\r\n",
        "48 PBESAUT Contribution delivery van policies \r\n",
        "\r\n",
        "49 PMOTSCO Contribution motorcycle/scooter policies \r\n",
        "\r\n",
        "50 PVRAAUT Contribution lorry policies \r\n",
        "\r\n",
        "51 PAANHANG Contribution trailer policies \r\n",
        "\r\n",
        "52 PTRACTOR Contribution tractor policies \r\n",
        "\r\n",
        "53 PWERKT Contribution agricultural machines policies \r\n",
        "\r\n",
        "54 PBROM Contribution moped policies \r\n",
        "\r\n",
        "55 PLEVEN Contribution life insurances \r\n",
        "\r\n",
        "56 PPERSONG Contribution private accident insurance policies \r\n",
        "\r\n",
        "57 PGEZONG Contribution family accidents insurance policies \r\n",
        "\r\n",
        "58 PWAOREG Contribution disability insurance policies \r\n",
        "\r\n",
        "59 PBRAND Contribution fire policies \r\n",
        "\r\n",
        "60 PZEILPL Contribution surfboard policies \r\n",
        "\r\n",
        "61 PPLEZIER Contribution boat policies \r\n",
        "\r\n",
        "62 PFIETS Contribution bicycle policies \r\n",
        "\r\n",
        "63 PINBOED Contribution property insurance policies \r\n",
        "\r\n",
        "64 PBYSTAND Contribution social security insurance policies \r\n",
        "\r\n",
        "65 AWAPART Number of private third party insurance 1 - 12 \r\n",
        "\r\n",
        "66 AWABEDR Number of third party insurance (firms) ... \r\n",
        "\r\n",
        "67 AWALAND Number of third party insurane (agriculture) \r\n",
        "\r\n",
        "68 APERSAUT Number of car policies \r\n",
        "\r\n",
        "69 ABESAUT Number of delivery van policies \r\n",
        "\r\n",
        "70 AMOTSCO Number of motorcycle/scooter policies \r\n",
        "\r\n",
        "71 AVRAAUT Number of lorry policies \r\n",
        "\r\n",
        "72 AAANHANG Number of trailer policies \r\n",
        "\r\n",
        "73 ATRACTOR Number of tractor policies \r\n",
        "\r\n",
        "74 AWERKT Number of agricultural machines policies \r\n",
        "\r\n",
        "75 ABROM Number of moped policies \r\n",
        "\r\n",
        "76 ALEVEN Number of life insurances \r\n",
        "\r\n",
        "77 APERSONG Number of private accident insurance policies \r\n",
        "\r\n",
        "78 AGEZONG Number of family accidents insurance policies \r\n",
        "\r\n",
        "79 AWAOREG Number of disability insurance policies \r\n",
        "\r\n",
        "80 ABRAND Number of fire policies \r\n",
        "\r\n",
        "81 AZEILPL Number of surfboard policies \r\n",
        "\r\n",
        "82 APLEZIER Number of boat policies \r\n",
        "\r\n",
        "83 AFIETS Number of bicycle policies \r\n",
        "\r\n",
        "84 AINBOED Number of property insurance policies \r\n",
        "\r\n",
        "85 ABYSTAND Number of social security insurance policies \r\n",
        "\r\n",
        "86 CARAVAN Number of mobile home policies 0 - 1\r\n",
        "\r\n",
        "\r\n",
        "---\r\n",
        "\r\n",
        "The averaged variables having keywords L0, L1, L2, L3, L4 are listed below:\r\n",
        "\r\n",
        "\r\n",
        "---\r\n",
        "\r\n",
        "L0\r\n",
        "\r\n",
        "1 High Income, expensive child \r\n",
        "\r\n",
        "2  Very Important Provincials \r\n",
        "\r\n",
        "3  High status seniors \r\n",
        "\r\n",
        "4  Affluent senior apartments \r\n",
        "\r\n",
        "5  Mixed seniors \r\n",
        "\r\n",
        "6  Career and childcare \r\n",
        "\r\n",
        "7  Dinki's (double income no kids) \r\n",
        "\r\n",
        "8  Middle class families \r\n",
        "\r\n",
        "9  Modern, complete families \r\n",
        "\r\n",
        "10  Stable family \r\n",
        "\r\n",
        "11  Family starters \r\n",
        "\r\n",
        "12  Affluent young families \r\n",
        "\r\n",
        "13  Young all american family \r\n",
        "\r\n",
        "14  Junior cosmopolitan \r\n",
        "\r\n",
        "15  Senior cosmopolitans \r\n",
        "\r\n",
        "16  Students in apartments \r\n",
        "\r\n",
        "17  Fresh masters in the city \r\n",
        "\r\n",
        "18  Single youth \r\n",
        "\r\n",
        "19  Suburban youth \r\n",
        "\r\n",
        "20  Etnically diverse \r\n",
        "\r\n",
        "21  Young urban have-nots \r\n",
        "\r\n",
        "22 Mixed apartment dwellers \r\n",
        "\r\n",
        "23  Young and rising \r\n",
        "\r\n",
        "24  Young, low educated \r\n",
        "\r\n",
        "25  Young seniors in the city \r\n",
        "\r\n",
        "26  Own home elderly \r\n",
        "\r\n",
        "27  Seniors in apartments \r\n",
        "\r\n",
        "28  Residential elderly \r\n",
        "\r\n",
        "29  Porchless seniors: no front yard \r\n",
        "\r\n",
        "30  Religious elderly singles \r\n",
        "\r\n",
        "31  Low income catholics \r\n",
        "\r\n",
        "32  Mixed seniors \r\n",
        "\r\n",
        "33  Lower class large families \r\n",
        "\r\n",
        "34  Large family, employed child \r\n",
        "\r\n",
        "35  Village families \r\n",
        "\r\n",
        "36  Couples with teens 'Married with children' \r\n",
        "\r\n",
        "37  Mixed small town dwellers \r\n",
        "\r\n",
        "38  Traditional families \r\n",
        "\r\n",
        "39  Large religous families \r\n",
        "\r\n",
        "40  Large family farms \r\n",
        "\r\n",
        "41  Mixed rurals\r\n",
        "\r\n",
        "\r\n",
        "---\r\n",
        "L1\r\n",
        "\r\n",
        "1   20-30 years\r\n",
        "\r\n",
        "2   30-40 years\r\n",
        "\r\n",
        "3   40-50 years\r\n",
        "\r\n",
        "4   50-60 years\r\n",
        "\r\n",
        "5   60-70 years\r\n",
        "\r\n",
        "6   70-80 years\r\n",
        "\r\n",
        "\r\n",
        "---\r\n",
        "\r\n",
        "L2\r\n",
        "\r\n",
        "1    Successful hedonists\r\n",
        "\r\n",
        "2    Driven Growers\r\n",
        "\r\n",
        "3    Average Family\r\n",
        "\r\n",
        "4    Career Loners\r\n",
        "\r\n",
        "5    Living well\r\n",
        "\r\n",
        "6    Cruising Seniors\r\n",
        "\r\n",
        "7    Retired and Religeous\r\n",
        "\r\n",
        "8    Family with grown ups\r\n",
        "\r\n",
        "9    Conservative families\r\n",
        "\r\n",
        "10   Farmers\r\n",
        "\r\n",
        "\r\n",
        "---\r\n",
        "\r\n",
        "L3\r\n",
        "\r\n",
        "0 0%\r\n",
        "\r\n",
        "1 1 - 10%\r\n",
        "\r\n",
        "2 11 - 23%\r\n",
        "\r\n",
        "3 24 - 36%\r\n",
        "\r\n",
        "4 37 - 49%\r\n",
        "\r\n",
        "5 50 - 62%\r\n",
        "\r\n",
        "6 63 - 75%\r\n",
        "\r\n",
        "7 76 - 88%\r\n",
        "\r\n",
        "8 89 - 99%\r\n",
        "\r\n",
        "9 100%\r\n",
        "\r\n",
        "\r\n",
        "\r\n",
        "---\r\n",
        "L4\r\n",
        "\r\n",
        "0 f 0\r\n",
        "\r\n",
        "1 f 1 – 49\r\n",
        "\r\n",
        "2 f 50 – 99\r\n",
        "\r\n",
        "3 f 100 – 199\r\n",
        "\r\n",
        "4 f 200 – 499\r\n",
        "\r\n",
        "5 f 500 – 999\r\n",
        "\r\n",
        "6 f 1000 – 4999\r\n",
        "\r\n",
        "7 f 5000 – 9999\r\n",
        "\r\n",
        "8 f 10.000 - 19.999\r\n",
        "\r\n",
        "9 f 20.000 \r\n",
        "\r\n"
      ]
    },
    {
      "cell_type": "markdown",
      "metadata": {
        "id": "3JjFIwsoxJ9R"
      },
      "source": [
        "Installing and Loading all the required libraries"
      ]
    },
    {
      "cell_type": "code",
      "metadata": {
        "id": "MUw3pg5dxQIU"
      },
      "source": [
        "%%R\r\n",
        "install.packages(\"rpart\")\r\n",
        "install.packages(\"rattle\")\r\n",
        "install.packages(\"caret\")\r\n",
        "install.packages(\"rpart.plot\")\r\n",
        "install.packages(\"RColorBrewer\")\r\n",
        "install.packages(\"crossval\")\r\n",
        "install.packages(\"ROSE\")\r\n",
        "install.packages(\"gplots\")\r\n",
        "install.packages(\"ModelMetrics\")\r\n",
        "\r\n",
        "library(rpart)\r\n",
        "library(caret)\r\n",
        "library(rattle)\r\n",
        "library(rpart.plot)\r\n",
        "library(RColorBrewer)\r\n",
        "library(crossval)\r\n",
        "library(gplots)\r\n",
        "library(ModelMetrics)\r\n",
        "library(ROSE)"
      ],
      "execution_count": null,
      "outputs": []
    },
    {
      "cell_type": "markdown",
      "metadata": {
        "id": "ec8ccqt71dA0"
      },
      "source": [
        "Loading the datasets uploaded in the ML project folder by using the link of each file"
      ]
    },
    {
      "cell_type": "code",
      "metadata": {
        "id": "GgfE2K8z1q5m"
      },
      "source": [
        "%%R\r\n",
        "train_data<- read.csv('/content/drive/MyDrive/ML Project/TrainingDatas.csv')\r\n",
        "test_data<- read.csv('/content/drive/MyDrive/ML Project/TD.csv')\r\n",
        "target<- read.csv('/content/drive/MyDrive/ML Project/Target.csv')\r\n",
        "target<-as.vector(target$CARAVAN)"
      ],
      "execution_count": 214,
      "outputs": []
    },
    {
      "cell_type": "markdown",
      "metadata": {
        "id": "RLYIJcVV2aS4"
      },
      "source": [
        "Setting a seed to reproduce results"
      ]
    },
    {
      "cell_type": "code",
      "metadata": {
        "id": "qoXy7anr2iMS"
      },
      "source": [
        "%%R\r\n",
        "set.seed(123)"
      ],
      "execution_count": null,
      "outputs": []
    },
    {
      "cell_type": "markdown",
      "metadata": {
        "id": "p4ROeSea2mY0"
      },
      "source": [
        "# **EXPLORATORY ANALYSIS**"
      ]
    },
    {
      "cell_type": "markdown",
      "metadata": {
        "id": "x7pHtK1p23_b"
      },
      "source": [
        "As the dataset is divided into two parts; testing and training sets, there is a need to join them together for correct analysis"
      ]
    },
    {
      "cell_type": "code",
      "metadata": {
        "id": "fZr25jCS3Dun"
      },
      "source": [
        "%%R\r\n",
        "full_data<- rbind(train_data,test_data)"
      ],
      "execution_count": 7,
      "outputs": []
    },
    {
      "cell_type": "code",
      "metadata": {
        "colab": {
          "base_uri": "https://localhost:8080/"
        },
        "id": "-XcBg3V7CV_y",
        "outputId": "b6911002-ece7-4e4b-ff6b-b4802a53c218"
      },
      "source": [
        "%%R\r\n",
        "table(full_data$CARAVAN)"
      ],
      "execution_count": null,
      "outputs": [
        {
          "output_type": "stream",
          "text": [
            "\n",
            "   0    1 \n",
            "9236  586 \n"
          ],
          "name": "stdout"
        }
      ]
    },
    {
      "cell_type": "markdown",
      "metadata": {
        "id": "AJFTjUy_DKHY"
      },
      "source": [
        "The below piechart shows the number of customers who purchased (Yes) the Caravan policy which is 586 and who have not purchased (NO) the Caravan policy which is 9236"
      ]
    },
    {
      "cell_type": "code",
      "metadata": {
        "colab": {
          "base_uri": "https://localhost:8080/",
          "height": 497
        },
        "id": "wVRf4LFGBlNB",
        "outputId": "399bdda3-60a2-45d7-ebd6-d77a1172f88f"
      },
      "source": [
        "%%R\r\n",
        "colors = c(\"black\",\"white\")\r\n",
        "pie (table(full_data$CARAVAN), c(\"NO\",\"YES\"), main = \"CUSTOMERS OF CARAVAN POLICY\", col=colors)\r\n",
        "box()"
      ],
      "execution_count": null,
      "outputs": [
        {
          "output_type": "display_data",
          "data": {
            "image/png": "[encoded data removed]"
          },
          "metadata": {
            "tags": []
          }
        }
      ]
    },
    {
      "cell_type": "code",
      "metadata": {
        "colab": {
          "base_uri": "https://localhost:8080/",
          "height": 497
        },
        "id": "MvP0zAkSCy0m",
        "outputId": "a208dcd6-162a-4afa-d253-47e126b12896"
      },
      "source": [
        "%%R\r\n",
        "barplot(table(full_data$APLEZIER[full_data$CARAVAN=='1']),border=\"black\",col = \"grey\",main = \"PURCHASE OF CARAVAN POLICY vs NUMBER OF BOAT POLICIES\",xlab = \"Number of BOAT policies\",ylab = \"Number of customers\")\r\n",
        "box()"
      ],
      "execution_count": null,
      "outputs": [
        {
          "output_type": "display_data",
          "data": {
            "image/png": "[encoded data removed]"
          },
          "metadata": {
            "tags": []
          }
        }
      ]
    },
    {
      "cell_type": "markdown",
      "metadata": {
        "id": "RJcwomLRCkC5"
      },
      "source": [
        "The above barplot shows that the Customers who have not purchased the boat policy (value 0) are more likely to purchase the Caravan policy"
      ]
    },
    {
      "cell_type": "code",
      "metadata": {
        "colab": {
          "base_uri": "https://localhost:8080/",
          "height": 497
        },
        "id": "SMl40xwZD4qj",
        "outputId": "257b3ab5-fd0a-4d46-d3f6-ce07fa5c0f2e"
      },
      "source": [
        "%%R\r\n",
        "barplot(table(full_data$PPERSAUT[full_data$CARAVAN=='1']),border=\"black\",col = \"grey\",main = \"PURCHASE OF CARAVAN POLICY vs CAR POLICIES\",xlab = \"Number of CAR policies\",ylab = \"Number of customers\")\r\n",
        "box()"
      ],
      "execution_count": null,
      "outputs": [
        {
          "output_type": "display_data",
          "data": {
            "image/png": "[encoded data removed]"
          },
          "metadata": {
            "tags": []
          }
        }
      ]
    },
    {
      "cell_type": "markdown",
      "metadata": {
        "id": "GqvthUEREsq2"
      },
      "source": [
        "In the above bargraph, We come to know that the Customers having 6 car policies are more likely to purchase the Caravan policy"
      ]
    },
    {
      "cell_type": "code",
      "metadata": {
        "colab": {
          "base_uri": "https://localhost:8080/",
          "height": 497
        },
        "id": "uQIAUgJGEeWB",
        "outputId": "e62eb4a5-edad-4b90-f3a9-c5e1a6c0fe51"
      },
      "source": [
        "%%R\r\n",
        "barplot(table(full_data$ABRAND[full_data$CARAVAN=='1']),border=\"black\",col = \"grey\",main = \"PURCHASE OF CARAVAN POLICY vs FIRE POLICIES\",xlab = \"Number of FIRE policies\",ylab = \"Number of customers\")\r\n",
        "box()"
      ],
      "execution_count": null,
      "outputs": [
        {
          "output_type": "display_data",
          "data": {
            "image/png": "[encoded data removed]"
          },
          "metadata": {
            "tags": []
          }
        }
      ]
    },
    {
      "cell_type": "markdown",
      "metadata": {
        "id": "dbQj0oQtEGIu"
      },
      "source": [
        "In the above bargraph, We come to know that the Customers who purchase only one fire policy are more likely to purchase the Caravan policy"
      ]
    },
    {
      "cell_type": "code",
      "metadata": {
        "colab": {
          "base_uri": "https://localhost:8080/",
          "height": 497
        },
        "id": "QZI9U0cpEz4r",
        "outputId": "0020dd3c-a961-41d9-b3d9-b6bf8ecad22a"
      },
      "source": [
        "%%R\r\n",
        "barplot(table(full_data$MOSTYPE[full_data$CARAVAN=='1']),border=\"black\",col = \"grey\",main = \"PURCHASE OF CARAVAN POLICY vs TYPES OF CUSTOMERS SUBTYPE (L0)\",xlab = \"Customer SubType (L0)\",ylab = \"Number of customers\")\r\n",
        "box()"
      ],
      "execution_count": 35,
      "outputs": [
        {
          "output_type": "display_data",
          "data": {
            "image/png": "[encoded data removed]"
          },
          "metadata": {
            "tags": []
          }
        }
      ]
    },
    {
      "cell_type": "markdown",
      "metadata": {
        "id": "2uhR9bL2JI9i"
      },
      "source": [
        "In the above barplot, Customers of various subtype of about 41 labels are taken (see L0 for reference). Customers belonging to subtype 8 (Middle class families) & subtype 33 (lower class with large families) are more likely to purchase the Caravan policy"
      ]
    },
    {
      "cell_type": "code",
      "metadata": {
        "colab": {
          "base_uri": "https://localhost:8080/",
          "height": 497
        },
        "id": "RgTlnp6ZI8rP",
        "outputId": "638f3966-89e2-44e4-f92c-b807d2cabfce"
      },
      "source": [
        "%%R\r\n",
        "tab<-table(full_data$MGEMLEEF[full_data$CARAVAN=='1'])\r\n",
        "names(tab)<-c(\"20-30\", \"30-40\",\"40-50\",\"50-60\",\"60-70\",\"70-80\")\r\n",
        "\r\n",
        "barplot(tab ,border=\"black\",col = \"grey\",main = \"PURCHASE OF CARAVAN POLICY vs CUSTOMER AGE GROUP\",xlab = \"Customer Age Group\",ylab = \"Number of customers\")\r\n",
        "box()"
      ],
      "execution_count": 40,
      "outputs": [
        {
          "output_type": "display_data",
          "data": {
            "image/png": "[encoded data removed]"
          },
          "metadata": {
            "tags": []
          }
        }
      ]
    },
    {
      "cell_type": "markdown",
      "metadata": {
        "id": "dR0g8oTQJGFW"
      },
      "source": [
        "In the above barplot, customers of various age groups (see L1 for reference) are taken and it is plotted against the customers who have bought caravan policy. The customers belonging to age group of 40-50 are more likely to purchase the caravan policy\r\n"
      ]
    },
    {
      "cell_type": "code",
      "metadata": {
        "colab": {
          "base_uri": "https://localhost:8080/",
          "height": 497
        },
        "id": "-oqlyuaqJ2A1",
        "outputId": "d69881b7-0ff3-429a-e202-e4d3edc060c7"
      },
      "source": [
        "%%R\r\n",
        "barplot(table(full_data$MKOOPKLA[full_data$CARAVAN=='1']),col=\"grey\",main = \"PURCHASE OF CARAVAN POLICY vs PURCHASING POWER\",xlab = \"Purchasing Power (L0)\",ylab = \"Number of customers\")\r\n",
        "box()"
      ],
      "execution_count": 44,
      "outputs": [
        {
          "output_type": "display_data",
          "data": {
            "image/png": "[encoded data removed]"
          },
          "metadata": {
            "tags": []
          }
        }
      ]
    },
    {
      "cell_type": "markdown",
      "metadata": {
        "id": "g5jB_A_eJ9cy"
      },
      "source": [
        "In the above barplot, We come to know that the Customers who are of High status seniors (3) are more likely to purchase the Caravan policy, with \"Dinki's\" (double income no kids (7)) and \"Career and childcare\" class (6) coming in at second and third place respectively (see L0 for reference)"
      ]
    },
    {
      "cell_type": "code",
      "metadata": {
        "colab": {
          "base_uri": "https://localhost:8080/",
          "height": 497
        },
        "id": "iHOdQnyDKsLF",
        "outputId": "c6dfab50-8ab5-4748-e490-90c55c38d9bb"
      },
      "source": [
        "%%R\r\n",
        "tab_<-table(full_data$MOSHOOFD[full_data$CARAVAN=='1'])\r\n",
        "names(tab_)<- c(\"Hedonists\", \"Driven growers\", \"Avg fam\", \"Living well\",\"Cruising Seniors\",\"Retired&Religious\",\"Fam with grown ups\",\"Conservative fam\",\"Farmers\")\r\n",
        "barplot(args.legend = list(x ='topright', bty='n', inset=c(0.32,0)),legend.text = c(\"Hedonists\", \"Driven growers\", \"Avg fam\", \"Living well\",\"Cruising Seniors\",\"Retired&Religious\",\"Fam with grown ups\",\"Conservative fam\",\"Farmers\"), table(full_data$MOSHOOFD[full_data$CARAVAN=='1']),col=c(rainbow(7),\"black\",\"grey\",\"white\"),main = \"PURCHASE OF CARAVAN POLICY vs CUSTOMER MAINTYPE (L2) \",xlab = \"Customer MainType (L2)\",ylab = \"Number of customers\")\r\n",
        "box()"
      ],
      "execution_count": 43,
      "outputs": [
        {
          "output_type": "display_data",
          "data": {
            "image/png": "[encoded data removed]"
          },
          "metadata": {
            "tags": []
          }
        }
      ]
    },
    {
      "cell_type": "markdown",
      "metadata": {
        "id": "n3gWpVURLLmJ"
      },
      "source": [
        "In the above barplot Customers of various maintype of about 10 labels are taken. Customers belonging to maintype 8 (Family with grown ups) & maintype 3(Average family) are more likely to purchase the Caravan policy. Moreover it is seen that (Driven growers) maintype 2, are also interested in buying the said insurance policy (see L2 for reference)"
      ]
    },
    {
      "cell_type": "markdown",
      "metadata": {
        "id": "tlj6dKizL991"
      },
      "source": [
        "# **DATA PRE-PROCESSING**"
      ]
    },
    {
      "cell_type": "markdown",
      "metadata": {
        "id": "KkfTbkTZD0B1"
      },
      "source": [
        "Checking for multi-collinearity and removing unwanted variables"
      ]
    },
    {
      "cell_type": "code",
      "metadata": {
        "colab": {
          "base_uri": "https://localhost:8080/"
        },
        "id": "KEUpwRBzO8g1",
        "outputId": "9fe958e8-0ba1-46ef-ee1e-8c019fea67aa"
      },
      "source": [
        "%%R\r\n",
        "corr_mat<-cor(full_data)\r\n",
        "temp<- which(abs(corr_mat) > 0.80, arr.ind=TRUE)\r\n",
        "corr_df<-as.data.frame(temp)\r\n",
        "col_corr_df<-corr_df$col\r\n",
        "var<-colnames(full_data[col_corr_df])\r\n",
        "new_corr_mat<-cbind(temp,var)\r\n",
        "new_corr_df<-as.data.frame(new_corr_mat)\r\n",
        "corr_filter<-new_corr_df$row == new_corr_df$col\r\n",
        "final_corr_df<-new_corr_df[!corr_filter,]\r\n",
        "names(final_corr_df)<-c(\"Variable_1_Index\", \"Variable_2_Index\", \"Variable 2\")\r\n",
        "final_corr_df"
      ],
      "execution_count": 30,
      "outputs": [
        {
          "output_type": "stream",
          "text": [
            "           Variable_1_Index Variable_2_Index Variable 2\n",
            "MOSHOOFD                  5                1  MOSTYPE.1\n",
            "MOSTYPE.1                 1                5   MOSHOOFD\n",
            "MRELOV                   12               10   MRELGE.1\n",
            "MRELGE.1                 10               12     MRELOV\n",
            "MHKOOP                   31               30   MHHUUR.1\n",
            "MHHUUR.1                 30               31     MHKOOP\n",
            "MZPART                   36               35  MZFONDS.1\n",
            "MZFONDS.1                35               36     MZPART\n",
            "AWAPART                  65               44  PWAPART.1\n",
            "AWABEDR                  66               45  PWABEDR.1\n",
            "AWALAND                  67               46  PWALAND.1\n",
            "APERSAUT                 68               47 PPERSAUT.1\n",
            "ABESAUT                  69               48  PBESAUT.1\n",
            "AMOTSCO                  70               49  PMOTSCO.1\n",
            "AVRAAUT                  71               50  PVRAAUT.1\n",
            "AAANHANG                 72               51 PAANHANG.1\n",
            "ATRACTOR                 73               52 PTRACTOR.1\n",
            "AWERKT                   74               53   PWERKT.1\n",
            "ABROM                    75               54    PBROM.1\n",
            "ALEVEN                   76               55   PLEVEN.1\n",
            "APERSONG                 77               56 PPERSONG.1\n",
            "AGEZONG                  78               57  PGEZONG.1\n",
            "AWAOREG                  79               58  PWAOREG.1\n",
            "ABRAND                   80               59   PBRAND.1\n",
            "AZEILPL                  81               60  PZEILPL.1\n",
            "APLEZIER                 82               61 PPLEZIER.1\n",
            "AFIETS                   83               62   PFIETS.1\n",
            "AINBOED                  84               63  PINBOED.1\n",
            "ABYSTAND                 85               64 PBYSTAND.1\n",
            "PWAPART.1                44               65    AWAPART\n",
            "PWABEDR.1                45               66    AWABEDR\n",
            "PWALAND.1                46               67    AWALAND\n",
            "PPERSAUT.1               47               68   APERSAUT\n",
            "PBESAUT.1                48               69    ABESAUT\n",
            "PMOTSCO.1                49               70    AMOTSCO\n",
            "PVRAAUT.1                50               71    AVRAAUT\n",
            "PAANHANG.1               51               72   AAANHANG\n",
            "PTRACTOR.1               52               73   ATRACTOR\n",
            "PWERKT.1                 53               74     AWERKT\n",
            "PBROM.1                  54               75      ABROM\n",
            "PLEVEN.1                 55               76     ALEVEN\n",
            "PPERSONG.1               56               77   APERSONG\n",
            "PGEZONG.1                57               78    AGEZONG\n",
            "PWAOREG.1                58               79    AWAOREG\n",
            "PBRAND.1                 59               80     ABRAND\n",
            "PZEILPL.1                60               81    AZEILPL\n",
            "PPLEZIER.1               61               82   APLEZIER\n",
            "PFIETS.1                 62               83     AFIETS\n",
            "PINBOED.1                63               84    AINBOED\n",
            "PBYSTAND.1               64               85   ABYSTAND\n"
          ],
          "name": "stdout"
        }
      ]
    },
    {
      "cell_type": "markdown",
      "metadata": {
        "id": "U4ITZLYZJw3C"
      },
      "source": [
        "The output of *final_corr_df* is a dataframe shwoing all persistent correlations between variables of the dataset. Each variable name is written against its index and the name of the variable it is most closely related with. For example; in first row the first variable MOSHOOFD is collinear with MOSTYPE, and so on. "
      ]
    },
    {
      "cell_type": "code",
      "metadata": {
        "colab": {
          "base_uri": "https://localhost:8080/"
        },
        "id": "bsQt-qjXNS2L",
        "outputId": "b4518010-e0d1-4ac8-f656-ebf49be93c39"
      },
      "source": [
        "%%R\r\n",
        "rm_var<-c(5,10,30,35,65,66,67,68,69,70,71,72,73,74,75,76,77,78,79,80,81,82,83,84,85)\r\n",
        "new_train_data<-train_data[, -rm_var]\r\n",
        "#new_test_data<-test_data[,-rm_var]\r\n",
        "ncol(new_train_data)\r\n",
        "#ncol(new_test_data)"
      ],
      "execution_count": 105,
      "outputs": [
        {
          "output_type": "stream",
          "text": [
            "[1] 61\n"
          ],
          "name": "stdout"
        }
      ]
    },
    {
      "cell_type": "markdown",
      "metadata": {
        "id": "kQHDhTbEOjW5"
      },
      "source": [
        "Hence the number of features have been reduced to 61"
      ]
    },
    {
      "cell_type": "markdown",
      "metadata": {
        "id": "-smO1gc4cgu8"
      },
      "source": [
        "Randomizing the data"
      ]
    },
    {
      "cell_type": "code",
      "metadata": {
        "id": "Xw-YKa1XU1oo"
      },
      "source": [
        "%%R\r\n",
        "random<-sample(1:nrow(new_train_data))\r\n",
        "new_train_data<- new_train_data[random,]"
      ],
      "execution_count": 191,
      "outputs": []
    },
    {
      "cell_type": "markdown",
      "metadata": {
        "id": "bUA0Q7FyDnvT"
      },
      "source": [
        "# **MODEL**"
      ]
    },
    {
      "cell_type": "markdown",
      "metadata": {
        "id": "IGLnYXGpd1fG"
      },
      "source": [
        "Fitting the model using *rpart*"
      ]
    },
    {
      "cell_type": "code",
      "metadata": {
        "colab": {
          "base_uri": "https://localhost:8080/"
        },
        "id": "CZzKWu7bd7vp",
        "outputId": "18542007-e65f-4e0a-f791-4846e85b8aae"
      },
      "source": [
        "%%R\r\n",
        "model<- rpart(formula=CARAVAN ~ .,data= new_train_data)\r\n",
        "model"
      ],
      "execution_count": 107,
      "outputs": [
        {
          "output_type": "stream",
          "text": [
            "n= 5822 \n",
            "\n",
            "node), split, n, deviance, yval\n",
            "      * denotes terminal node\n",
            "\n",
            " 1) root 5822 327.198900 0.05977327  \n",
            "   2) PPERSAUT< 5.5 3459  83.861810 0.02486268 *\n",
            "   3) PPERSAUT>=5.5 2363 232.950500 0.11087600  \n",
            "     6) MOSTYPE>=8.5 1899 153.137400 0.08846761  \n",
            "      12) PPLEZIER< 0.5 1882 145.567000 0.08448459 *\n",
            "      13) PPLEZIER>=0.5 17   4.235294 0.52941180 *\n",
            "     7) MOSTYPE< 8.5 464  74.956900 0.20258620 *\n"
          ],
          "name": "stdout"
        }
      ]
    },
    {
      "cell_type": "markdown",
      "metadata": {
        "id": "6dT-81edePxT"
      },
      "source": [
        "Removing the variable of interest from the testing dataset"
      ]
    },
    {
      "cell_type": "code",
      "metadata": {
        "id": "_uMbd6wOeVjb"
      },
      "source": [
        "%%R\r\n",
        "new_test_data<-new_test_data[,-86]"
      ],
      "execution_count": 192,
      "outputs": []
    },
    {
      "cell_type": "markdown",
      "metadata": {
        "id": "aqkF-Lp6-8QX"
      },
      "source": [
        "Pruning the model before getting predictions"
      ]
    },
    {
      "cell_type": "code",
      "metadata": {
        "colab": {
          "base_uri": "https://localhost:8080/"
        },
        "id": "1gZu23m664wh",
        "outputId": "3b1dc17b-9337-442d-89bc-928991ff2240"
      },
      "source": [
        "%%R\r\n",
        "print(model$cptable)\r\n",
        "\r\n",
        "cp<-model$cptable[which.min(model$cptable[,\"xerror\"]),\"CP\"]\r\n",
        "\r\n",
        "model_cp<-prune(tree =model,cp=cp)"
      ],
      "execution_count": 160,
      "outputs": [
        {
          "output_type": "stream",
          "text": [
            "          CP nsplit rel error    xerror       xstd\n",
            "1 0.03174401      0 1.0000000 1.0005397 0.04869949\n",
            "2 0.01484158      1 0.9682560 0.9695565 0.04585877\n",
            "3 0.01019318      2 0.9534144 0.9599647 0.04507715\n",
            "4 0.01000000      3 0.9432212 0.9509731 0.04481964\n"
          ],
          "name": "stdout"
        }
      ]
    },
    {
      "cell_type": "markdown",
      "metadata": {
        "id": "xnShO8Hyeqnk"
      },
      "source": [
        "Generating Predictions"
      ]
    },
    {
      "cell_type": "code",
      "metadata": {
        "id": "CkPz5wZ9essi"
      },
      "source": [
        "%%R\r\n",
        "target<-read.csv('/content/drive/MyDrive/ML Project/Target.csv')\r\n",
        "target<-as.vector(target$CARAVAN)\r\n",
        "pred<-predict(object = model_cp, new_test_data)\r\n",
        "\r\n",
        "pred<-as.vector(pred)\r\n",
        "for (i in 1: 4000){\r\n",
        "  if (pred[i]<0.2){\r\n",
        "   pred[i]=0\r\n",
        "  }   \r\n",
        "  else{\r\n",
        "    pred[i]=1\r\n",
        "  }\r\n",
        "}\r\n",
        "\r\n"
      ],
      "execution_count": 209,
      "outputs": []
    },
    {
      "cell_type": "markdown",
      "metadata": {
        "id": "t9WbSTKVDhV2"
      },
      "source": [
        "Confusion Matrix"
      ]
    },
    {
      "cell_type": "code",
      "metadata": {
        "colab": {
          "base_uri": "https://localhost:8080/"
        },
        "id": "7Omh8rRTCr2r",
        "outputId": "e91305bf-024f-441f-8ee5-d1ed32425cf6"
      },
      "source": [
        "%%R\r\n",
        "actual<-target\r\n",
        "predicted<-pred\r\n",
        "cm<-confusionMatrix(actual, predicted) \r\n",
        "print(cm)"
      ],
      "execution_count": 210,
      "outputs": [
        {
          "output_type": "stream",
          "text": [
            "     [,1] [,2]\n",
            "[1,] 3479  191\n",
            "[2,]  283   47\n"
          ],
          "name": "stdout"
        }
      ]
    },
    {
      "cell_type": "markdown",
      "metadata": {
        "id": "L8esubHGD1Tq"
      },
      "source": [
        "As shown in above confusion matrix the model was successful in predicting the customer choice of either purchasing or not purchasing CARAVAN insurance policy by 88.1%. The misclassification error turns out to be 11%. "
      ]
    },
    {
      "cell_type": "markdown",
      "metadata": {
        "id": "aTx2cdUWIjxK"
      },
      "source": [
        "RMSE"
      ]
    },
    {
      "cell_type": "code",
      "metadata": {
        "colab": {
          "base_uri": "https://localhost:8080/"
        },
        "id": "UmYyhrvkCrn_",
        "outputId": "77d3f98b-a17e-4618-bc62-1b90ee81c0ff"
      },
      "source": [
        "%%R\r\n",
        "rms<-rmse(target,pred)\r\n",
        "print(rms)"
      ],
      "execution_count": 211,
      "outputs": [
        {
          "output_type": "stream",
          "text": [
            "[1] 0.3442383\n"
          ],
          "name": "stdout"
        }
      ]
    },
    {
      "cell_type": "markdown",
      "metadata": {
        "id": "7k74ts_6Ip8i"
      },
      "source": [
        "Comparision "
      ]
    },
    {
      "cell_type": "code",
      "metadata": {
        "colab": {
          "base_uri": "https://localhost:8080/"
        },
        "id": "OWt6M2E_CrSt",
        "outputId": "7f98989d-0006-4c27-f50e-d1fe6efb5699"
      },
      "source": [
        "%%R\r\n",
        "prediction <- factor(as.factor(pred), c(0, 1), labels = c(\"Not purchased\", \"Purchased\"))\r\n",
        "target <- factor(as.factor(target), c(0, 1), labels = c(\"Not purchased\", \"Purchased\"))\r\n",
        "tb<-table(prediction)\r\n",
        "print(tb)\r\n",
        "tb_t<-table(target)\r\n",
        "print(tb_t)"
      ],
      "execution_count": 212,
      "outputs": [
        {
          "output_type": "stream",
          "text": [
            "prediction\n",
            "Not purchased     Purchased \n",
            "         3670           330 \n",
            "target\n",
            "Not purchased     Purchased \n",
            "         3762           238 \n"
          ],
          "name": "stdout"
        }
      ]
    },
    {
      "cell_type": "markdown",
      "metadata": {
        "id": "BV9VeTiOItiw"
      },
      "source": [
        "As seen from above analysis, the model misclassified 92 observations of 'Not purchased' as 'Purchased'. "
      ]
    },
    {
      "cell_type": "markdown",
      "metadata": {
        "id": "LziZ02RBKMct"
      },
      "source": [
        "# **ANALYSIS**"
      ]
    },
    {
      "cell_type": "code",
      "metadata": {
        "colab": {
          "base_uri": "https://localhost:8080/",
          "height": 497
        },
        "id": "JU9hrIcHIsyR",
        "outputId": "33b6d1de-5363-40f3-ba5a-d9058f267576"
      },
      "source": [
        "%%R\r\n",
        "fancyRpartPlot(model_cp)"
      ],
      "execution_count": 213,
      "outputs": [
        {
          "output_type": "display_data",
          "data": {
            "image/png": "[encoded data removed]"
          },
          "metadata": {
            "tags": []
          }
        }
      ]
    },
    {
      "cell_type": "markdown",
      "metadata": {
        "id": "rv66RZQnKiTK"
      },
      "source": [
        "From the above decision tree, few customers profiles can be made:\r\n",
        "\r\n",
        "1- Contribution of car policies-PPERSAUT is less than 5.5, which means that customers having atleast 5 or atmost 6 car policies will be interested in buying caravan insurance policy. It can also be seen that 59% of customers dont have car policies hence are not a part of probable customer base. Because its highly ulikely with the probabbility of 0.025 that customers having less than 5 car policies will be interested in buying the said policy.\r\n",
        "\r\n",
        "2- Furthermore it can be seen that customers who dont have boat policies (PPLEZIER less than 0.5) and belong to either middle class or modern families are likely to buy the insurance policies. This result can also bee endorsed by looking at the graph between number of caravan insurance policies and boat policies. Moreover customers with one or more than one boat policies are very highly likely to buy the insurance policy with the prob of 0.53. The customer base who have boat policies and intersted in buying the caravan policy are in a minority (17). But they are very likely to be the potential buyers for the company. \r\n",
        "\r\n",
        "3- Customers who are high status seniors, or have a high income are also very likely to buy the insurance policy with the prob of 0.2. But again these kind of customers are in less number (8%), so its advisable for the company to target customers who belong to the middle class and have no fire policy. Because they make the larger chunk of their customer base (32%) who will be interested in purchasing the policy with right approach and markeing stratigies.   \r\n",
        "\r\n"
      ]
    },
    {
      "cell_type": "code",
      "metadata": {
        "id": "ksa19cBLKh8w"
      },
      "source": [
        ""
      ],
      "execution_count": null,
      "outputs": []
    }
  ]
}